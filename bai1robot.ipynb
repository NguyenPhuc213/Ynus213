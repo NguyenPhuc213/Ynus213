{
  "cells": [
    {
      "cell_type": "markdown",
      "metadata": {
        "id": "view-in-github",
        "colab_type": "text"
      },
      "source": [
        "<a href=\"https://colab.research.google.com/github/NguyenPhuc213/Ynus213/blob/main/bai1robot.ipynb\" target=\"_parent\"><img src=\"https://colab.research.google.com/assets/colab-badge.svg\" alt=\"Open In Colab\"/></a>"
      ]
    },
    {
      "cell_type": "code",
      "execution_count": null,
      "metadata": {
        "id": "neLdkZfYf3GN"
      },
      "outputs": [],
      "source": [
        "from math import cos, sin\n",
        "from pandas import DataFrame\n",
        "import numpy as np\n",
        "import pandas as pd\n",
        "\n",
        "theta1 = []\n",
        "theta2 = []\n",
        "pi=3.14\n",
        "px = []\n",
        "py = []\n",
        "\n",
        "l1 = 40\n",
        "l2 = 50\n",
        "for i1 in range (0,80*10):\n",
        "    for i2 in range (0,170*10):\n",
        "        t1 = i1/10\n",
        "        t2 = i2/10\n",
        "        theta1.append(t1)\n",
        "        theta2.append(t2)\n",
        "        px.append(round(l1*cos(t1*pi/180) + l2*cos((t1+t2)*pi/180),2))\n",
        "        py.append(round(l1*sin(t1*pi/180) + l2*sin((t1+t2)*pi/180),2))\n",
        "       \n",
        "       \n",
        "df = DataFrame(np.c_[theta1,theta2,px,py],columns = ['theta1','theta2','px','py'])\n",
        "export_csv = df.to_csv (r'datarobot2.csv', index = None, header=True)"
      ]
    },
    {
      "cell_type": "code",
      "execution_count": null,
      "metadata": {
        "id": "XECrGhg0gRim"
      },
      "outputs": [],
      "source": [
        "import sklearn\n",
        "import matplotlib.pyplot as plt\n",
        "from keras.utils import np_utils\n",
        "import keras \n",
        "from sklearn.model_selection import train_test_split\n",
        "\n",
        "url = 'datarobot2.csv'\n",
        "data = pd.read_csv(url)\n",
        "\n",
        "dataX = data.drop(data.columns[:2],axis=1)\n",
        "X = dataX.values.tolist()\n",
        "dataY = data.drop(data.columns[2:],axis=1)\n",
        "Y = dataY.values.tolist()\n",
        "X_train, X_test, Y_train, Y_test = train_test_split(dataX, dataY, test_size = 0.2, random_state=7)\n",
        "\n",
        "Y_train = np.array(Y_train)\n",
        "Y_test = np.array(Y_test)\n",
        "X_train = np.array(X_train)\n",
        "X_test = np.array(X_test)\n"
      ]
    },
    {
      "cell_type": "code",
      "execution_count": null,
      "metadata": {
        "colab": {
          "base_uri": "https://localhost:8080/"
        },
        "id": "PxfnWEwsheT4",
        "outputId": "a4d89cd8-981a-4422-9da4-d06358f3fb0d"
      },
      "outputs": [
        {
          "output_type": "stream",
          "name": "stdout",
          "text": [
            "Model: \"sequential_1\"\n",
            "_________________________________________________________________\n",
            " Layer (type)                Output Shape              Param #   \n",
            "=================================================================\n",
            " dense_5 (Dense)             (None, 256)               768       \n",
            "                                                                 \n",
            " dense_6 (Dense)             (None, 256)               65792     \n",
            "                                                                 \n",
            " dense_7 (Dense)             (None, 128)               32896     \n",
            "                                                                 \n",
            " dense_8 (Dense)             (None, 64)                8256      \n",
            "                                                                 \n",
            " dense_9 (Dense)             (None, 2)                 130       \n",
            "                                                                 \n",
            "=================================================================\n",
            "Total params: 107,842\n",
            "Trainable params: 107,842\n",
            "Non-trainable params: 0\n",
            "_________________________________________________________________\n",
            "Epoch 1/5\n",
            "31086/31086 [==============================] - 103s 3ms/step - loss: 57.7541 - mean_absolute_error: 4.0277 - val_loss: 24.0506 - val_mean_absolute_error: 3.9913\n",
            "Epoch 2/5\n",
            "31086/31086 [==============================] - 99s 3ms/step - loss: 12.4398 - mean_absolute_error: 2.2687 - val_loss: 11.4672 - val_mean_absolute_error: 2.2907\n",
            "Epoch 3/5\n",
            "31086/31086 [==============================] - 99s 3ms/step - loss: 9.8531 - mean_absolute_error: 1.9875 - val_loss: 5.1295 - val_mean_absolute_error: 1.3768\n",
            "Epoch 4/5\n",
            "31086/31086 [==============================] - 98s 3ms/step - loss: 8.6365 - mean_absolute_error: 1.8318 - val_loss: 24.1965 - val_mean_absolute_error: 3.3262\n",
            "Epoch 5/5\n",
            "31086/31086 [==============================] - 110s 4ms/step - loss: 7.8917 - mean_absolute_error: 1.7314 - val_loss: 4.7196 - val_mean_absolute_error: 1.4165\n"
          ]
        }
      ],
      "source": [
        "#tao model\n",
        "from keras.callbacks import EarlyStopping\n",
        "from tensorflow.keras.optimizers import RMSprop\n",
        "from keras.models import Sequential\n",
        "from keras.layers import Dense, Activation, Dropout\n",
        "\n",
        "model = Sequential()\n",
        "model.add(Dense(256,kernel_initializer='normal', activation = 'relu', input_shape=(2,)))\n",
        "model.add(Dense(256,activation='relu'))\n",
        "model.add(Dense(128,activation='relu'))\n",
        "model.add(Dense(64,activation='relu'))\n",
        "model.add(Dense(2,activation='relu'))\n",
        "model.summary()\n",
        "model.compile(loss='mse', optimizer=RMSprop(), metrics=['mean_absolute_error'])\n",
        "history = model.fit( X_train, Y_train, batch_size =28, epochs=5, verbose=1, validation_split=0.2)\n"
      ]
    },
    {
      "cell_type": "code",
      "execution_count": null,
      "metadata": {
        "colab": {
          "base_uri": "https://localhost:8080/"
        },
        "id": "wWqxYoJkoMS4",
        "outputId": "4f6d4b38-9904-4e79-9ba7-c8cab91fc545"
      },
      "outputs": [
        {
          "output_type": "stream",
          "name": "stdout",
          "text": [
            "INFO:tensorflow:Assets written to: model_robot2/assets\n"
          ]
        }
      ],
      "source": [
        "model.save('model_robot2')"
      ]
    },
    {
      "cell_type": "code",
      "execution_count": null,
      "metadata": {
        "colab": {
          "base_uri": "https://localhost:8080/"
        },
        "id": "umATaAuVoQXZ",
        "outputId": "78d3f806-cb27-4a1c-e487-fad1389396d2"
      },
      "outputs": [
        {
          "output_type": "stream",
          "name": "stdout",
          "text": [
            "sai so kiem tra la: 4.76533842086792\n",
            "do chinh xac kiem tra: 1.4250117540359497\n"
          ]
        }
      ],
      "source": [
        "score = model.evaluate(X_test,Y_test,verbose=0)\n",
        "print('sai so kiem tra la:',score[0])\n",
        "print('do chinh xac kiem tra:',score[1])\n"
      ]
    },
    {
      "cell_type": "code",
      "execution_count": null,
      "metadata": {
        "colab": {
          "base_uri": "https://localhost:8080/",
          "height": 350
        },
        "id": "mq26Epm8oSv5",
        "outputId": "def38d48-ed7b-429e-c4a2-729e6ba096c4"
      },
      "outputs": [
        {
          "output_type": "display_data",
          "data": {
            "text/plain": [
              "<Figure size 576x360 with 1 Axes>"
            ],
            "image/png": "[encoded data removed]"
          },
          "metadata": {
            "needs_background": "light"
          }
        }
      ],
      "source": [
        "#dothi\n",
        "plt.figure(figsize=(8,5))\n",
        "plt.grid(True)\n",
        "plt.gca().set_ylim(0,10)\n",
        "\n",
        "plt.plot(history.history['mean_absolute_error'])\n",
        "plt.plot(history.history['val_mean_absolute_error'])\n",
        "\n",
        "plt.title('model absolute error')\n",
        "plt.ylabel('absolute_error')\n",
        "plt.xlabel('epoch')\n",
        "plt.legend(['train','validation'],loc='upper right')\n",
        "\n",
        "plt.show()"
      ]
    },
    {
      "cell_type": "code",
      "execution_count": null,
      "metadata": {
        "id": "1ulrRjPLod35"
      },
      "outputs": [],
      "source": [
        ""
      ]
    }
  ],
  "metadata": {
    "colab": {
      "collapsed_sections": [],
      "name": "bai1robot.ipynb",
      "provenance": [],
      "authorship_tag": "ABX9TyOmwB9tmw3l9GMEXuXkLxvC",
      "include_colab_link": true
    },
    "kernelspec": {
      "display_name": "Python 3",
      "name": "python3"
    },
    "language_info": {
      "name": "python"
    }
  },
  "nbformat": 4,
  "nbformat_minor": 0
}