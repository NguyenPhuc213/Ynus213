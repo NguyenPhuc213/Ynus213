{
  "nbformat": 4,
  "nbformat_minor": 0,
  "metadata": {
    "colab": {
      "name": "bai2robot.ipynb",
      "provenance": [],
      "collapsed_sections": [],
      "authorship_tag": "ABX9TyNEUwiiJQks9a7CSv2RdHNF",
      "include_colab_link": true
    },
    "kernelspec": {
      "name": "python3",
      "display_name": "Python 3"
    },
    "language_info": {
      "name": "python"
    }
  },
  "cells": [
    {
      "cell_type": "markdown",
      "metadata": {
        "id": "view-in-github",
        "colab_type": "text"
      },
      "source": [
        "<a href=\"https://colab.research.google.com/github/NguyenPhuc213/Ynus213/blob/main/bai2robot.ipynb\" target=\"_parent\"><img src=\"https://colab.research.google.com/assets/colab-badge.svg\" alt=\"Open In Colab\"/></a>"
      ]
    },
    {
      "cell_type": "code",
      "execution_count": 2,
      "metadata": {
        "id": "SORNcgRNfL-d"
      },
      "outputs": [],
      "source": [
        "#tao du lieu\n",
        "from math import cos, sin, pi\n",
        "from pandas import DataFrame\n",
        "import numpy as np\n",
        "import pandas as pd\n",
        "theta1 = []\n",
        "theta2 = []\n",
        "theta3 = []\n",
        "px = []\n",
        "py = []\n",
        "alpha = []\n",
        "l1 = 50\n",
        "l2 = 40\n",
        "l3 = 20\n",
        "for t1 in range (0,80):\n",
        "    for t2 in range (0,170):\n",
        "        for t3 in range (0,170):\n",
        "            theta1.append(t1)\n",
        "            theta2.append(t2)\n",
        "            theta3.append(t3)\n",
        "            px.append(round(l1*cos(t1*pi/180) + l2*cos((t1+t2)*pi/180) + l3*cos((t1+t2+t3)*pi/180),2))\n",
        "            py.append(round(l1*sin(t1*pi/180) + l2*sin((t1+t2)*pi/180) + l3*sin((t1+t2+t3)*pi/180),2))\n",
        "            alpha.append(t1+t2+t3)\n",
        "df = DataFrame(np.c_[theta1,theta2,theta3,px,py,alpha],columns = ['theta1','theta2','theta3','px','py','alpha'])\n",
        "export_csv = df.to_csv (r'datarobot3.csv', index = None, header=True)"
      ]
    },
    {
      "cell_type": "code",
      "source": [
        "import sklearn\n",
        "import matplotlib.pyplot as plt\n",
        "from keras.utils import np_utils\n",
        "import keras \n",
        "from sklearn.model_selection import train_test_split\n",
        "import tensorflow as tf\n",
        "from sklearn.preprocessing import scale, StandardScaler\n",
        "\n",
        "data = pd.read_csv('datarobot3.csv')\n",
        "theta = data.drop(data.columns[3:6],axis=1)\n",
        "pos_al = data.drop(data.columns[0:3],axis=1)\n",
        "pos_al.head()\n",
        "\n",
        "X_train,X_test,Y_train,Y_test = train_test_split(pos_al,theta,test_size=0.25)\n",
        "standard_scaler = StandardScaler()\n",
        "X_train = standard_scaler.fit_transform(X_train)\n",
        "X_train = X_train.data.tolist()\n",
        "\n",
        "X_test = standard_scaler.fit_transform(X_test)\n",
        "X_test = X_test.data.tolist()\n",
        "X_train = np.array(X_train)\n",
        "X_test = np.array(X_test)\n",
        "Y_train = np.array(Y_train)\n",
        "Y_test = np.array(Y_test)\n"
      ],
      "metadata": {
        "id": "xb3HbsglgGaP"
      },
      "execution_count": 3,
      "outputs": []
    },
    {
      "cell_type": "code",
      "source": [
        "#tao model\n",
        "from keras.callbacks import EarlyStopping\n",
        "from tensorflow.keras.optimizers import RMSprop\n",
        "from keras.models import Sequential\n",
        "from keras.layers import Dense, Activation, Dropout\n",
        "from pandas import DataFrame\n",
        "from sklearn.preprocessing import scale, StandardScaler\n",
        "from keras.callbacks import EarlyStopping\n",
        "\n",
        "model = Sequential()\n",
        "model.add(Dense(128,kernel_initializer='normal',activation='relu',input_shape=(3,)))\n",
        "model.add(Dense(64,activation='relu'))\n",
        "model.add(Dense(3))\n",
        "model.summary()\n",
        "\n",
        "model.compile(loss='mse',optimizer=RMSprop(), metrics=['mean_absolute_error'])\n",
        "#history = model.fit(X_train, Y_train, batch_size=128, epochs=10, verbose=1, validation_data=(X_test, Y_test)\n",
        "history = model.fit( X_train, Y_train, batch_size =28, epochs=5, verbose=1, validation_split=0.2)"
      ],
      "metadata": {
        "colab": {
          "base_uri": "https://localhost:8080/"
        },
        "id": "kRMBKxMthSzs",
        "outputId": "e5833b76-908d-47c9-a770-9ceb872a1f4f"
      },
      "execution_count": 5,
      "outputs": [
        {
          "output_type": "stream",
          "name": "stdout",
          "text": [
            "Model: \"sequential\"\n",
            "_________________________________________________________________\n",
            " Layer (type)                Output Shape              Param #   \n",
            "=================================================================\n",
            " dense (Dense)               (None, 128)               512       \n",
            "                                                                 \n",
            " dense_1 (Dense)             (None, 64)                8256      \n",
            "                                                                 \n",
            " dense_2 (Dense)             (None, 3)                 195       \n",
            "                                                                 \n",
            "=================================================================\n",
            "Total params: 8,963\n",
            "Trainable params: 8,963\n",
            "Non-trainable params: 0\n",
            "_________________________________________________________________\n",
            "Epoch 1/5\n",
            "49543/49543 [==============================] - 123s 2ms/step - loss: 34.1912 - mean_absolute_error: 2.2655 - val_loss: 2.2966 - val_mean_absolute_error: 1.0985\n",
            "Epoch 2/5\n",
            "49543/49543 [==============================] - 117s 2ms/step - loss: 3.1828 - mean_absolute_error: 1.2407 - val_loss: 3.1816 - val_mean_absolute_error: 1.2634\n",
            "Epoch 3/5\n",
            "49543/49543 [==============================] - 97s 2ms/step - loss: 2.6070 - mean_absolute_error: 1.1103 - val_loss: 1.8070 - val_mean_absolute_error: 0.9895\n",
            "Epoch 4/5\n",
            "49543/49543 [==============================] - 109s 2ms/step - loss: 2.2185 - mean_absolute_error: 1.0160 - val_loss: 3.1730 - val_mean_absolute_error: 1.3335\n",
            "Epoch 5/5\n",
            "49543/49543 [==============================] - 110s 2ms/step - loss: 1.9641 - mean_absolute_error: 0.9547 - val_loss: 1.9822 - val_mean_absolute_error: 1.0179\n"
          ]
        }
      ]
    },
    {
      "cell_type": "code",
      "source": [
        "model.save('model_robot3')"
      ],
      "metadata": {
        "colab": {
          "base_uri": "https://localhost:8080/"
        },
        "id": "yB5UikPRJP9Y",
        "outputId": "6690c8b2-9e29-449f-9ccd-81d7c85cde7b"
      },
      "execution_count": 6,
      "outputs": [
        {
          "output_type": "stream",
          "name": "stdout",
          "text": [
            "INFO:tensorflow:Assets written to: model_robot3/assets\n"
          ]
        }
      ]
    },
    {
      "cell_type": "code",
      "source": [
        "#danh gia ket qua\n",
        "score = model.evaluate(X_test,Y_test,verbose=0)\n",
        "print('sai so kiem tra la:',score[0])\n",
        "print('do chinh xac kiem tra:',score[1])\n"
      ],
      "metadata": {
        "colab": {
          "base_uri": "https://localhost:8080/"
        },
        "id": "lhHUh2ZDJQ-O",
        "outputId": "410ca4ec-9cc4-45be-965f-a6fa3733c562"
      },
      "execution_count": 7,
      "outputs": [
        {
          "output_type": "stream",
          "name": "stdout",
          "text": [
            "sai so kiem tra la: 1.783929705619812\n",
            "do chinh xac kiem tra: 0.9686198234558105\n"
          ]
        }
      ]
    }
  ]
}